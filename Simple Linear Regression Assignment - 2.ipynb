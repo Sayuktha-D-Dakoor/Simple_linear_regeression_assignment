{
 "cells": [
  {
   "cell_type": "markdown",
   "id": "28950bd7",
   "metadata": {},
   "source": [
    "Build a simple linear regression model by performing EDA and do necessary transformations and select the best model using R or Python. 2)Salary_hike -> Build a prediction model for Salary_hike"
   ]
  },
  {
   "cell_type": "code",
   "execution_count": 1,
   "id": "1529d3d0",
   "metadata": {},
   "outputs": [],
   "source": [
    "import pandas as pd\n",
    "import matplotlib.pyplot as plt\n",
    "import statsmodels.formula.api as smf\n",
    "import seaborn as sns\n",
    "import numpy as np\n",
    "from sklearn.model_selection import train_test_split\n",
    "from sklearn.linear_model import LinearRegression\n",
    "from sklearn.metrics import r2_score,mean_squared_error"
   ]
  },
  {
   "cell_type": "code",
   "execution_count": 2,
   "id": "0dcc1a2d",
   "metadata": {},
   "outputs": [
    {
     "data": {
      "text/html": [
       "<div>\n",
       "<style scoped>\n",
       "    .dataframe tbody tr th:only-of-type {\n",
       "        vertical-align: middle;\n",
       "    }\n",
       "\n",
       "    .dataframe tbody tr th {\n",
       "        vertical-align: top;\n",
       "    }\n",
       "\n",
       "    .dataframe thead th {\n",
       "        text-align: right;\n",
       "    }\n",
       "</style>\n",
       "<table border=\"1\" class=\"dataframe\">\n",
       "  <thead>\n",
       "    <tr style=\"text-align: right;\">\n",
       "      <th></th>\n",
       "      <th>YearsExperience</th>\n",
       "      <th>Salary</th>\n",
       "    </tr>\n",
       "  </thead>\n",
       "  <tbody>\n",
       "    <tr>\n",
       "      <th>0</th>\n",
       "      <td>1.1</td>\n",
       "      <td>39343.0</td>\n",
       "    </tr>\n",
       "    <tr>\n",
       "      <th>1</th>\n",
       "      <td>1.3</td>\n",
       "      <td>46205.0</td>\n",
       "    </tr>\n",
       "    <tr>\n",
       "      <th>2</th>\n",
       "      <td>1.5</td>\n",
       "      <td>37731.0</td>\n",
       "    </tr>\n",
       "    <tr>\n",
       "      <th>3</th>\n",
       "      <td>2.0</td>\n",
       "      <td>43525.0</td>\n",
       "    </tr>\n",
       "    <tr>\n",
       "      <th>4</th>\n",
       "      <td>2.2</td>\n",
       "      <td>39891.0</td>\n",
       "    </tr>\n",
       "    <tr>\n",
       "      <th>5</th>\n",
       "      <td>2.9</td>\n",
       "      <td>56642.0</td>\n",
       "    </tr>\n",
       "    <tr>\n",
       "      <th>6</th>\n",
       "      <td>3.0</td>\n",
       "      <td>60150.0</td>\n",
       "    </tr>\n",
       "    <tr>\n",
       "      <th>7</th>\n",
       "      <td>3.2</td>\n",
       "      <td>54445.0</td>\n",
       "    </tr>\n",
       "    <tr>\n",
       "      <th>8</th>\n",
       "      <td>3.2</td>\n",
       "      <td>64445.0</td>\n",
       "    </tr>\n",
       "    <tr>\n",
       "      <th>9</th>\n",
       "      <td>3.7</td>\n",
       "      <td>57189.0</td>\n",
       "    </tr>\n",
       "    <tr>\n",
       "      <th>10</th>\n",
       "      <td>3.9</td>\n",
       "      <td>63218.0</td>\n",
       "    </tr>\n",
       "    <tr>\n",
       "      <th>11</th>\n",
       "      <td>4.0</td>\n",
       "      <td>55794.0</td>\n",
       "    </tr>\n",
       "    <tr>\n",
       "      <th>12</th>\n",
       "      <td>4.0</td>\n",
       "      <td>56957.0</td>\n",
       "    </tr>\n",
       "    <tr>\n",
       "      <th>13</th>\n",
       "      <td>4.1</td>\n",
       "      <td>57081.0</td>\n",
       "    </tr>\n",
       "    <tr>\n",
       "      <th>14</th>\n",
       "      <td>4.5</td>\n",
       "      <td>61111.0</td>\n",
       "    </tr>\n",
       "    <tr>\n",
       "      <th>15</th>\n",
       "      <td>4.9</td>\n",
       "      <td>67938.0</td>\n",
       "    </tr>\n",
       "    <tr>\n",
       "      <th>16</th>\n",
       "      <td>5.1</td>\n",
       "      <td>66029.0</td>\n",
       "    </tr>\n",
       "    <tr>\n",
       "      <th>17</th>\n",
       "      <td>5.3</td>\n",
       "      <td>83088.0</td>\n",
       "    </tr>\n",
       "    <tr>\n",
       "      <th>18</th>\n",
       "      <td>5.9</td>\n",
       "      <td>81363.0</td>\n",
       "    </tr>\n",
       "    <tr>\n",
       "      <th>19</th>\n",
       "      <td>6.0</td>\n",
       "      <td>93940.0</td>\n",
       "    </tr>\n",
       "    <tr>\n",
       "      <th>20</th>\n",
       "      <td>6.8</td>\n",
       "      <td>91738.0</td>\n",
       "    </tr>\n",
       "    <tr>\n",
       "      <th>21</th>\n",
       "      <td>7.1</td>\n",
       "      <td>98273.0</td>\n",
       "    </tr>\n",
       "    <tr>\n",
       "      <th>22</th>\n",
       "      <td>7.9</td>\n",
       "      <td>101302.0</td>\n",
       "    </tr>\n",
       "    <tr>\n",
       "      <th>23</th>\n",
       "      <td>8.2</td>\n",
       "      <td>113812.0</td>\n",
       "    </tr>\n",
       "    <tr>\n",
       "      <th>24</th>\n",
       "      <td>8.7</td>\n",
       "      <td>109431.0</td>\n",
       "    </tr>\n",
       "    <tr>\n",
       "      <th>25</th>\n",
       "      <td>9.0</td>\n",
       "      <td>105582.0</td>\n",
       "    </tr>\n",
       "    <tr>\n",
       "      <th>26</th>\n",
       "      <td>9.5</td>\n",
       "      <td>116969.0</td>\n",
       "    </tr>\n",
       "    <tr>\n",
       "      <th>27</th>\n",
       "      <td>9.6</td>\n",
       "      <td>112635.0</td>\n",
       "    </tr>\n",
       "    <tr>\n",
       "      <th>28</th>\n",
       "      <td>10.3</td>\n",
       "      <td>122391.0</td>\n",
       "    </tr>\n",
       "    <tr>\n",
       "      <th>29</th>\n",
       "      <td>10.5</td>\n",
       "      <td>121872.0</td>\n",
       "    </tr>\n",
       "  </tbody>\n",
       "</table>\n",
       "</div>"
      ],
      "text/plain": [
       "    YearsExperience    Salary\n",
       "0               1.1   39343.0\n",
       "1               1.3   46205.0\n",
       "2               1.5   37731.0\n",
       "3               2.0   43525.0\n",
       "4               2.2   39891.0\n",
       "5               2.9   56642.0\n",
       "6               3.0   60150.0\n",
       "7               3.2   54445.0\n",
       "8               3.2   64445.0\n",
       "9               3.7   57189.0\n",
       "10              3.9   63218.0\n",
       "11              4.0   55794.0\n",
       "12              4.0   56957.0\n",
       "13              4.1   57081.0\n",
       "14              4.5   61111.0\n",
       "15              4.9   67938.0\n",
       "16              5.1   66029.0\n",
       "17              5.3   83088.0\n",
       "18              5.9   81363.0\n",
       "19              6.0   93940.0\n",
       "20              6.8   91738.0\n",
       "21              7.1   98273.0\n",
       "22              7.9  101302.0\n",
       "23              8.2  113812.0\n",
       "24              8.7  109431.0\n",
       "25              9.0  105582.0\n",
       "26              9.5  116969.0\n",
       "27              9.6  112635.0\n",
       "28             10.3  122391.0\n",
       "29             10.5  121872.0"
      ]
     },
     "execution_count": 2,
     "metadata": {},
     "output_type": "execute_result"
    }
   ],
   "source": [
    "salary_data=pd.read_csv(\"Salary_Data.csv\")\n",
    "salary_data"
   ]
  },
  {
   "cell_type": "markdown",
   "id": "44af6cf7",
   "metadata": {},
   "source": [
    "# Initial Investigation"
   ]
  },
  {
   "cell_type": "code",
   "execution_count": 3,
   "id": "e5927046",
   "metadata": {},
   "outputs": [
    {
     "data": {
      "text/plain": [
       "(30, 2)"
      ]
     },
     "execution_count": 3,
     "metadata": {},
     "output_type": "execute_result"
    }
   ],
   "source": [
    "salary_data.shape"
   ]
  },
  {
   "cell_type": "code",
   "execution_count": 4,
   "id": "2917cefb",
   "metadata": {},
   "outputs": [
    {
     "name": "stdout",
     "output_type": "stream",
     "text": [
      "<class 'pandas.core.frame.DataFrame'>\n",
      "RangeIndex: 30 entries, 0 to 29\n",
      "Data columns (total 2 columns):\n",
      " #   Column           Non-Null Count  Dtype  \n",
      "---  ------           --------------  -----  \n",
      " 0   YearsExperience  30 non-null     float64\n",
      " 1   Salary           30 non-null     float64\n",
      "dtypes: float64(2)\n",
      "memory usage: 608.0 bytes\n"
     ]
    }
   ],
   "source": [
    "salary_data.info()"
   ]
  },
  {
   "cell_type": "code",
   "execution_count": 5,
   "id": "3ac3b879",
   "metadata": {},
   "outputs": [
    {
     "data": {
      "text/plain": [
       "YearsExperience    0\n",
       "Salary             0\n",
       "dtype: int64"
      ]
     },
     "execution_count": 5,
     "metadata": {},
     "output_type": "execute_result"
    }
   ],
   "source": [
    "salary_data.isnull().sum()"
   ]
  },
  {
   "cell_type": "code",
   "execution_count": 6,
   "id": "b5a195b6",
   "metadata": {},
   "outputs": [
    {
     "data": {
      "text/plain": [
       "YearsExperience    float64\n",
       "Salary             float64\n",
       "dtype: object"
      ]
     },
     "execution_count": 6,
     "metadata": {},
     "output_type": "execute_result"
    }
   ],
   "source": [
    "salary_data.dtypes"
   ]
  },
  {
   "cell_type": "markdown",
   "id": "4b1bfd13",
   "metadata": {},
   "source": [
    "# Assumptions Check"
   ]
  },
  {
   "cell_type": "code",
   "execution_count": 7,
   "id": "b8b389a2",
   "metadata": {},
   "outputs": [
    {
     "data": {
      "text/plain": [
       "<matplotlib.collections.PathCollection at 0x7fcab01df520>"
      ]
     },
     "execution_count": 7,
     "metadata": {},
     "output_type": "execute_result"
    },
    {
     "data": {
      "image/png": "[encoded data removed]",
      "text/plain": [
       "<Figure size 432x288 with 1 Axes>"
      ]
     },
     "metadata": {
      "needs_background": "light"
     },
     "output_type": "display_data"
    }
   ],
   "source": [
    "plt.scatter(x='YearsExperience',y='Salary',data=salary_data)"
   ]
  },
  {
   "cell_type": "code",
   "execution_count": 8,
   "id": "f6e4c819",
   "metadata": {},
   "outputs": [
    {
     "data": {
      "text/html": [
       "<div>\n",
       "<style scoped>\n",
       "    .dataframe tbody tr th:only-of-type {\n",
       "        vertical-align: middle;\n",
       "    }\n",
       "\n",
       "    .dataframe tbody tr th {\n",
       "        vertical-align: top;\n",
       "    }\n",
       "\n",
       "    .dataframe thead th {\n",
       "        text-align: right;\n",
       "    }\n",
       "</style>\n",
       "<table border=\"1\" class=\"dataframe\">\n",
       "  <thead>\n",
       "    <tr style=\"text-align: right;\">\n",
       "      <th></th>\n",
       "      <th>YearsExperience</th>\n",
       "      <th>Salary</th>\n",
       "    </tr>\n",
       "  </thead>\n",
       "  <tbody>\n",
       "    <tr>\n",
       "      <th>YearsExperience</th>\n",
       "      <td>1.000000</td>\n",
       "      <td>0.978242</td>\n",
       "    </tr>\n",
       "    <tr>\n",
       "      <th>Salary</th>\n",
       "      <td>0.978242</td>\n",
       "      <td>1.000000</td>\n",
       "    </tr>\n",
       "  </tbody>\n",
       "</table>\n",
       "</div>"
      ],
      "text/plain": [
       "                 YearsExperience    Salary\n",
       "YearsExperience         1.000000  0.978242\n",
       "Salary                  0.978242  1.000000"
      ]
     },
     "execution_count": 8,
     "metadata": {},
     "output_type": "execute_result"
    }
   ],
   "source": [
    "salary_data.corr()"
   ]
  },
  {
   "cell_type": "markdown",
   "id": "0717af39",
   "metadata": {},
   "source": [
    "# Model Building and Model Training"
   ]
  },
  {
   "cell_type": "code",
   "execution_count": 9,
   "id": "bfcb197f",
   "metadata": {},
   "outputs": [],
   "source": [
    "model=smf.ols('Salary~YearsExperience',data=salary_data).fit()"
   ]
  },
  {
   "cell_type": "code",
   "execution_count": 10,
   "id": "e651243e",
   "metadata": {},
   "outputs": [
    {
     "data": {
      "text/plain": [
       "<AxesSubplot:xlabel='YearsExperience', ylabel='Salary'>"
      ]
     },
     "execution_count": 10,
     "metadata": {},
     "output_type": "execute_result"
    },
    {
     "data": {
      "image/png": "[encoded data removed]",
      "text/plain": [
       "<Figure size 432x288 with 1 Axes>"
      ]
     },
     "metadata": {
      "needs_background": "light"
     },
     "output_type": "display_data"
    }
   ],
   "source": [
    "sns.regplot(x='YearsExperience',y='Salary',data=salary_data)"
   ]
  },
  {
   "cell_type": "code",
   "execution_count": 11,
   "id": "2915bb2e",
   "metadata": {},
   "outputs": [
    {
     "data": {
      "text/plain": [
       "Intercept          25792.200199\n",
       "YearsExperience     9449.962321\n",
       "dtype: float64"
      ]
     },
     "execution_count": 11,
     "metadata": {},
     "output_type": "execute_result"
    }
   ],
   "source": [
    "model.params"
   ]
  },
  {
   "cell_type": "code",
   "execution_count": 12,
   "id": "db264dec",
   "metadata": {},
   "outputs": [
    {
     "data": {
      "text/plain": [
       "Intercept          5.511950e-12\n",
       "YearsExperience    1.143068e-20\n",
       "dtype: float64"
      ]
     },
     "execution_count": 12,
     "metadata": {},
     "output_type": "execute_result"
    }
   ],
   "source": [
    "model.pvalues"
   ]
  },
  {
   "cell_type": "markdown",
   "id": "4b444a9c",
   "metadata": {},
   "source": [
    "# Model Testing"
   ]
  },
  {
   "cell_type": "markdown",
   "id": "8a3bd0fd",
   "metadata": {},
   "source": [
    "Manual Calculation"
   ]
  },
  {
   "cell_type": "code",
   "execution_count": 13,
   "id": "eac18aae",
   "metadata": {},
   "outputs": [],
   "source": [
    "#y=mx+c\n",
    "#If x=4,then y=9449.962321*4+25792.200199\n",
    "#            y=63592.04"
   ]
  },
  {
   "cell_type": "markdown",
   "id": "81a9d517",
   "metadata": {},
   "source": [
    "Machine Prediction"
   ]
  },
  {
   "cell_type": "code",
   "execution_count": 14,
   "id": "0c1764a6",
   "metadata": {},
   "outputs": [
    {
     "data": {
      "text/html": [
       "<div>\n",
       "<style scoped>\n",
       "    .dataframe tbody tr th:only-of-type {\n",
       "        vertical-align: middle;\n",
       "    }\n",
       "\n",
       "    .dataframe tbody tr th {\n",
       "        vertical-align: top;\n",
       "    }\n",
       "\n",
       "    .dataframe thead th {\n",
       "        text-align: right;\n",
       "    }\n",
       "</style>\n",
       "<table border=\"1\" class=\"dataframe\">\n",
       "  <thead>\n",
       "    <tr style=\"text-align: right;\">\n",
       "      <th></th>\n",
       "      <th>YearsExperience</th>\n",
       "    </tr>\n",
       "  </thead>\n",
       "  <tbody>\n",
       "    <tr>\n",
       "      <th>0</th>\n",
       "      <td>3</td>\n",
       "    </tr>\n",
       "    <tr>\n",
       "      <th>1</th>\n",
       "      <td>4</td>\n",
       "    </tr>\n",
       "    <tr>\n",
       "      <th>2</th>\n",
       "      <td>6</td>\n",
       "    </tr>\n",
       "  </tbody>\n",
       "</table>\n",
       "</div>"
      ],
      "text/plain": [
       "   YearsExperience\n",
       "0                3\n",
       "1                4\n",
       "2                6"
      ]
     },
     "execution_count": 14,
     "metadata": {},
     "output_type": "execute_result"
    }
   ],
   "source": [
    "test_data=pd.DataFrame({'YearsExperience':[3,4,6]})\n",
    "test_data"
   ]
  },
  {
   "cell_type": "code",
   "execution_count": 15,
   "id": "4d576d90",
   "metadata": {},
   "outputs": [
    {
     "data": {
      "text/plain": [
       "0    54142.087163\n",
       "1    63592.049484\n",
       "2    82491.974127\n",
       "dtype: float64"
      ]
     },
     "execution_count": 15,
     "metadata": {},
     "output_type": "execute_result"
    }
   ],
   "source": [
    "model.predict(test_data)"
   ]
  },
  {
   "cell_type": "markdown",
   "id": "c1d7a0aa",
   "metadata": {},
   "source": [
    "# Model Evaluation"
   ]
  },
  {
   "cell_type": "code",
   "execution_count": 16,
   "id": "e517f98e",
   "metadata": {},
   "outputs": [
    {
     "name": "stdout",
     "output_type": "stream",
     "text": [
      "R2 score is 0.9569566641435086.\n",
      "Mean Squared Error is 20856849300.33157.\n"
     ]
    }
   ],
   "source": [
    "print(\"R2 score is {}.\".format(model.rsquared))\n",
    "print(\"Mean Squared Error is {}.\".format(model.mse_model))"
   ]
  },
  {
   "cell_type": "markdown",
   "id": "be5785a4",
   "metadata": {},
   "source": [
    "# Data Transformation-log transformation"
   ]
  },
  {
   "cell_type": "code",
   "execution_count": 17,
   "id": "46eb479f",
   "metadata": {},
   "outputs": [
    {
     "data": {
      "text/plain": [
       "array([[0.09531018],\n",
       "       [0.26236426],\n",
       "       [0.40546511],\n",
       "       [0.69314718],\n",
       "       [0.78845736],\n",
       "       [1.06471074],\n",
       "       [1.09861229],\n",
       "       [1.16315081],\n",
       "       [1.16315081],\n",
       "       [1.30833282],\n",
       "       [1.36097655],\n",
       "       [1.38629436],\n",
       "       [1.38629436],\n",
       "       [1.41098697],\n",
       "       [1.5040774 ],\n",
       "       [1.58923521],\n",
       "       [1.62924054],\n",
       "       [1.66770682],\n",
       "       [1.77495235],\n",
       "       [1.79175947],\n",
       "       [1.91692261],\n",
       "       [1.96009478],\n",
       "       [2.06686276],\n",
       "       [2.10413415],\n",
       "       [2.16332303],\n",
       "       [2.19722458],\n",
       "       [2.2512918 ],\n",
       "       [2.2617631 ],\n",
       "       [2.3321439 ],\n",
       "       [2.35137526]])"
      ]
     },
     "execution_count": 17,
     "metadata": {},
     "output_type": "execute_result"
    }
   ],
   "source": [
    "X_log = np.log(salary_data['YearsExperience'].values.reshape(-1,1))\n",
    "X_log"
   ]
  },
  {
   "cell_type": "code",
   "execution_count": 18,
   "id": "32ed6af1",
   "metadata": {},
   "outputs": [
    {
     "data": {
      "text/plain": [
       "array([[ 39343.],\n",
       "       [ 46205.],\n",
       "       [ 37731.],\n",
       "       [ 43525.],\n",
       "       [ 39891.],\n",
       "       [ 56642.],\n",
       "       [ 60150.],\n",
       "       [ 54445.],\n",
       "       [ 64445.],\n",
       "       [ 57189.],\n",
       "       [ 63218.],\n",
       "       [ 55794.],\n",
       "       [ 56957.],\n",
       "       [ 57081.],\n",
       "       [ 61111.],\n",
       "       [ 67938.],\n",
       "       [ 66029.],\n",
       "       [ 83088.],\n",
       "       [ 81363.],\n",
       "       [ 93940.],\n",
       "       [ 91738.],\n",
       "       [ 98273.],\n",
       "       [101302.],\n",
       "       [113812.],\n",
       "       [109431.],\n",
       "       [105582.],\n",
       "       [116969.],\n",
       "       [112635.],\n",
       "       [122391.],\n",
       "       [121872.]])"
      ]
     },
     "execution_count": 18,
     "metadata": {},
     "output_type": "execute_result"
    }
   ],
   "source": [
    "y_log =salary_data['Salary'].values.reshape(-1,1)\n",
    "y_log"
   ]
  },
  {
   "cell_type": "markdown",
   "id": "5132b5b1",
   "metadata": {},
   "source": [
    "# Model Building"
   ]
  },
  {
   "cell_type": "code",
   "execution_count": 19,
   "id": "e29d930c",
   "metadata": {},
   "outputs": [],
   "source": [
    "X_train_log,X_test_log,Y_train_log,Y_test_log=train_test_split(X_log,y_log,random_state=123,test_size=0.20)"
   ]
  },
  {
   "cell_type": "markdown",
   "id": "f2f56be2",
   "metadata": {},
   "source": [
    "# Model Testing"
   ]
  },
  {
   "cell_type": "code",
   "execution_count": 20,
   "id": "330c6e57",
   "metadata": {},
   "outputs": [],
   "source": [
    "log_linearmodel=LinearRegression()"
   ]
  },
  {
   "cell_type": "code",
   "execution_count": 21,
   "id": "36e265ae",
   "metadata": {},
   "outputs": [
    {
     "data": {
      "text/plain": [
       "LinearRegression()"
      ]
     },
     "execution_count": 21,
     "metadata": {},
     "output_type": "execute_result"
    }
   ],
   "source": [
    "log_linearmodel.fit(X_train_log,Y_train_log)"
   ]
  },
  {
   "cell_type": "code",
   "execution_count": 22,
   "id": "b03d92be",
   "metadata": {},
   "outputs": [
    {
     "name": "stdout",
     "output_type": "stream",
     "text": [
      "Intercept value of Log Model is [18223.81216554]\n",
      "Co-efficient Value of Log Model is [[37706.01136755]]\n"
     ]
    }
   ],
   "source": [
    "print(\"Intercept value of Log Model is\",log_linearmodel.intercept_)\n",
    "print(\"Co-efficient Value of Log Model is\",log_linearmodel.coef_)"
   ]
  },
  {
   "cell_type": "code",
   "execution_count": 23,
   "id": "7534a2af",
   "metadata": {},
   "outputs": [
    {
     "data": {
      "text/plain": [
       "array([[ 70495.44310469],\n",
       "       [ 92131.1683743 ],\n",
       "       [ 70495.44310469],\n",
       "       [ 97562.3185053 ],\n",
       "       [ 85150.18568587],\n",
       "       [ 47953.39435826],\n",
       "       [ 44359.62763512],\n",
       "       [ 99794.09476277],\n",
       "       [ 79655.97447708],\n",
       "       [ 74936.57158606],\n",
       "       [ 90503.31797118],\n",
       "       [ 67555.8243358 ],\n",
       "       [ 78147.53287537],\n",
       "       [101072.38705563],\n",
       "       [ 21817.57888869],\n",
       "       [ 28116.52210399],\n",
       "       [ 96156.96286939],\n",
       "       [ 69540.80954904],\n",
       "       [ 85783.91508016],\n",
       "       [ 81106.38449924],\n",
       "       [ 59648.09961059],\n",
       "       [106159.65639005],\n",
       "       [ 33512.28414101],\n",
       "       [ 71426.50303572]])"
      ]
     },
     "execution_count": 23,
     "metadata": {},
     "output_type": "execute_result"
    }
   ],
   "source": [
    "Ylog_train_pred=log_linearmodel.predict(X_train_log)\n",
    "Ylog_train_pred"
   ]
  },
  {
   "cell_type": "code",
   "execution_count": 24,
   "id": "cdb92b28",
   "metadata": {},
   "outputs": [
    {
     "data": {
      "text/plain": [
       "array([[ 62081.58982224],\n",
       "       [106884.79434151],\n",
       "       [ 58369.80731773],\n",
       "       [103111.04631546],\n",
       "       [ 62081.58982224],\n",
       "       [103505.87726729]])"
      ]
     },
     "execution_count": 24,
     "metadata": {},
     "output_type": "execute_result"
    }
   ],
   "source": [
    "Ylog_test_pred=log_linearmodel.predict(X_test_log)\n",
    "Ylog_test_pred"
   ]
  },
  {
   "cell_type": "markdown",
   "id": "3ac9711c",
   "metadata": {},
   "source": [
    "# Model Evaluation"
   ]
  },
  {
   "cell_type": "markdown",
   "id": "420dec90",
   "metadata": {},
   "source": [
    "Training data"
   ]
  },
  {
   "cell_type": "code",
   "execution_count": 25,
   "id": "3856da04",
   "metadata": {},
   "outputs": [
    {
     "data": {
      "text/plain": [
       "0.8228891020448672"
      ]
     },
     "execution_count": 25,
     "metadata": {},
     "output_type": "execute_result"
    }
   ],
   "source": [
    "r2_score(Y_train_log,Ylog_train_pred)"
   ]
  },
  {
   "cell_type": "code",
   "execution_count": 26,
   "id": "ba81e4b1",
   "metadata": {},
   "outputs": [
    {
     "data": {
      "text/plain": [
       "0.8228891020448672"
      ]
     },
     "execution_count": 26,
     "metadata": {},
     "output_type": "execute_result"
    }
   ],
   "source": [
    "r2_score(Y_train_log,Ylog_train_pred)"
   ]
  },
  {
   "cell_type": "code",
   "execution_count": 27,
   "id": "7736515f",
   "metadata": {},
   "outputs": [
    {
     "data": {
      "text/plain": [
       "0.8921718608399194"
      ]
     },
     "execution_count": 27,
     "metadata": {},
     "output_type": "execute_result"
    }
   ],
   "source": [
    "r2_score(Y_test_log,Ylog_test_pred)"
   ]
  },
  {
   "cell_type": "code",
   "execution_count": 28,
   "id": "44678032",
   "metadata": {},
   "outputs": [
    {
     "data": {
      "text/plain": [
       "94481437.5916862"
      ]
     },
     "execution_count": 28,
     "metadata": {},
     "output_type": "execute_result"
    }
   ],
   "source": [
    "mean_squared_error(Y_test_log,Ylog_test_pred)"
   ]
  },
  {
   "cell_type": "markdown",
   "id": "7a0d2e84",
   "metadata": {},
   "source": [
    "# Data Transformation-sqrt transformation"
   ]
  },
  {
   "cell_type": "code",
   "execution_count": 29,
   "id": "4478eff8",
   "metadata": {},
   "outputs": [
    {
     "data": {
      "text/plain": [
       "array([[1.04880885],\n",
       "       [1.14017543],\n",
       "       [1.22474487],\n",
       "       [1.41421356],\n",
       "       [1.4832397 ],\n",
       "       [1.70293864],\n",
       "       [1.73205081],\n",
       "       [1.78885438],\n",
       "       [1.78885438],\n",
       "       [1.92353841],\n",
       "       [1.97484177],\n",
       "       [2.        ],\n",
       "       [2.        ],\n",
       "       [2.02484567],\n",
       "       [2.12132034],\n",
       "       [2.21359436],\n",
       "       [2.25831796],\n",
       "       [2.30217289],\n",
       "       [2.42899156],\n",
       "       [2.44948974],\n",
       "       [2.60768096],\n",
       "       [2.66458252],\n",
       "       [2.81069386],\n",
       "       [2.86356421],\n",
       "       [2.94957624],\n",
       "       [3.        ],\n",
       "       [3.082207  ],\n",
       "       [3.09838668],\n",
       "       [3.20936131],\n",
       "       [3.24037035]])"
      ]
     },
     "execution_count": 29,
     "metadata": {},
     "output_type": "execute_result"
    }
   ],
   "source": [
    "X_sqrt = np.sqrt(salary_data['YearsExperience'].values.reshape(-1,1))\n",
    "X_sqrt"
   ]
  },
  {
   "cell_type": "code",
   "execution_count": 30,
   "id": "c3baa936",
   "metadata": {},
   "outputs": [
    {
     "data": {
      "text/plain": [
       "array([[ 39343.],\n",
       "       [ 46205.],\n",
       "       [ 37731.],\n",
       "       [ 43525.],\n",
       "       [ 39891.],\n",
       "       [ 56642.],\n",
       "       [ 60150.],\n",
       "       [ 54445.],\n",
       "       [ 64445.],\n",
       "       [ 57189.],\n",
       "       [ 63218.],\n",
       "       [ 55794.],\n",
       "       [ 56957.],\n",
       "       [ 57081.],\n",
       "       [ 61111.],\n",
       "       [ 67938.],\n",
       "       [ 66029.],\n",
       "       [ 83088.],\n",
       "       [ 81363.],\n",
       "       [ 93940.],\n",
       "       [ 91738.],\n",
       "       [ 98273.],\n",
       "       [101302.],\n",
       "       [113812.],\n",
       "       [109431.],\n",
       "       [105582.],\n",
       "       [116969.],\n",
       "       [112635.],\n",
       "       [122391.],\n",
       "       [121872.]])"
      ]
     },
     "execution_count": 30,
     "metadata": {},
     "output_type": "execute_result"
    }
   ],
   "source": [
    "y_sqrt =salary_data['Salary'].values.reshape(-1,1)\n",
    "y_sqrt"
   ]
  },
  {
   "cell_type": "markdown",
   "id": "42e55c9f",
   "metadata": {},
   "source": [
    "# Model Building"
   ]
  },
  {
   "cell_type": "code",
   "execution_count": 31,
   "id": "33ea68c8",
   "metadata": {},
   "outputs": [],
   "source": [
    "X_train_sqrt,X_test_sqrt,Y_train_sqrt,Y_test_sqrt=train_test_split(X_sqrt,y_sqrt,random_state=123,test_size=0.20)"
   ]
  },
  {
   "cell_type": "markdown",
   "id": "22a87b09",
   "metadata": {},
   "source": [
    "# Model Training"
   ]
  },
  {
   "cell_type": "code",
   "execution_count": 32,
   "id": "0b1e37cc",
   "metadata": {},
   "outputs": [],
   "source": [
    "sqrt_linearmodel=LinearRegression()"
   ]
  },
  {
   "cell_type": "code",
   "execution_count": 33,
   "id": "14500e17",
   "metadata": {},
   "outputs": [
    {
     "data": {
      "text/plain": [
       "LinearRegression()"
      ]
     },
     "execution_count": 33,
     "metadata": {},
     "output_type": "execute_result"
    }
   ],
   "source": [
    "sqrt_linearmodel.fit(X_train_sqrt,Y_train_sqrt)"
   ]
  },
  {
   "cell_type": "code",
   "execution_count": 34,
   "id": "bbbc2825",
   "metadata": {},
   "outputs": [
    {
     "name": "stdout",
     "output_type": "stream",
     "text": [
      "Intercept value of Sqrt Model is [-14910.19558803]\n",
      "Co-efficient Value of Sqrt Model is [[40715.47723932]]\n"
     ]
    }
   ],
   "source": [
    "print(\"Intercept value of Sqrt Model is\",sqrt_linearmodel.intercept_)\n",
    "print(\"Co-efficient Value of Sqrt Model is\",sqrt_linearmodel.coef_)"
   ]
  },
  {
   "cell_type": "markdown",
   "id": "3b5b9050",
   "metadata": {},
   "source": [
    "# Model Testing"
   ]
  },
  {
   "cell_type": "code",
   "execution_count": 35,
   "id": "ecb5d0ec",
   "metadata": {},
   "outputs": [
    {
     "data": {
      "text/plain": [
       "array([[ 66520.7588906 ],\n",
       "       [ 93579.55331231],\n",
       "       [ 66520.7588906 ],\n",
       "       [101681.18793565],\n",
       "       [ 83987.35499978],\n",
       "       [ 45480.61655268],\n",
       "       [ 42670.1845223 ],\n",
       "       [105183.20870787],\n",
       "       [ 77038.29783523],\n",
       "       [ 71460.37457747],\n",
       "       [ 91262.77927097],\n",
       "       [ 63407.58860721],\n",
       "       [ 75217.35527985],\n",
       "       [107236.23612991],\n",
       "       [ 27792.55719803],\n",
       "       [ 31512.59098142],\n",
       "       [ 99528.54647915],\n",
       "       [ 65496.42937918],\n",
       "       [ 84821.94828219],\n",
       "       [ 78823.8721791 ],\n",
       "       [ 55611.07964488],\n",
       "       [115760.48166704],\n",
       "       [ 34955.87634708],\n",
       "       [ 67532.36232949]])"
      ]
     },
     "execution_count": 35,
     "metadata": {},
     "output_type": "execute_result"
    }
   ],
   "source": [
    "Ysqrt_train_pred=sqrt_linearmodel.predict(X_train_sqrt)\n",
    "Ysqrt_train_pred"
   ]
  },
  {
   "cell_type": "code",
   "execution_count": 36,
   "id": "b84a78c1",
   "metadata": {},
   "outputs": [
    {
     "data": {
      "text/plain": [
       "array([[ 57923.86428673],\n",
       "       [117023.02961193],\n",
       "       [ 54425.76371011],\n",
       "       [110583.33342777],\n",
       "       [ 57923.86428673],\n",
       "       [111242.09663657]])"
      ]
     },
     "execution_count": 36,
     "metadata": {},
     "output_type": "execute_result"
    }
   ],
   "source": [
    "Ysqrt_test_pred=sqrt_linearmodel.predict(X_test_sqrt)\n",
    "Ysqrt_test_pred"
   ]
  },
  {
   "cell_type": "markdown",
   "id": "99567c60",
   "metadata": {},
   "source": [
    "# Model Evaluation"
   ]
  },
  {
   "cell_type": "markdown",
   "id": "03d18e24",
   "metadata": {},
   "source": [
    "Training Data\n",
    "\n"
   ]
  },
  {
   "cell_type": "code",
   "execution_count": 37,
   "id": "7a7c1d04",
   "metadata": {},
   "outputs": [
    {
     "data": {
      "text/plain": [
       "0.9098646988059147"
      ]
     },
     "execution_count": 37,
     "metadata": {},
     "output_type": "execute_result"
    }
   ],
   "source": [
    "r2_score(Y_train_sqrt,Ysqrt_train_pred)"
   ]
  },
  {
   "cell_type": "code",
   "execution_count": 38,
   "id": "dddaa28e",
   "metadata": {},
   "outputs": [
    {
     "data": {
      "text/plain": [
       "58166302.44346443"
      ]
     },
     "execution_count": 38,
     "metadata": {},
     "output_type": "execute_result"
    }
   ],
   "source": [
    "mean_squared_error(Y_train_sqrt,Ysqrt_train_pred)"
   ]
  },
  {
   "cell_type": "markdown",
   "id": "4cca6b58",
   "metadata": {},
   "source": [
    "Testing Data\n",
    "\n"
   ]
  },
  {
   "cell_type": "code",
   "execution_count": 39,
   "id": "74eda497",
   "metadata": {},
   "outputs": [
    {
     "data": {
      "text/plain": [
       "0.9760774522438873"
      ]
     },
     "execution_count": 39,
     "metadata": {},
     "output_type": "execute_result"
    }
   ],
   "source": [
    "r2_score(Y_test_sqrt,Ysqrt_test_pred)"
   ]
  },
  {
   "cell_type": "code",
   "execution_count": 40,
   "id": "85716cd8",
   "metadata": {},
   "outputs": [
    {
     "data": {
      "text/plain": [
       "20961473.69748974"
      ]
     },
     "execution_count": 40,
     "metadata": {},
     "output_type": "execute_result"
    }
   ],
   "source": [
    "mean_squared_error(Y_test_sqrt,Ysqrt_test_pred)\n"
   ]
  },
  {
   "cell_type": "markdown",
   "id": "c3fe9e75",
   "metadata": {},
   "source": [
    "Model without any transformation- R2 score is 95.6%, Mean Squared Error is 20856849300.33\n",
    "\n",
    "Model with log transformation- Training Data- R2 score is 82.2%, Mean Squared Error is 114293577.76. Testing Data- R2 score is 89.2%, Mean Squared Error is 94481437.59.\n",
    "\n",
    "Model with sqrt transformation- Training Data- R2 score is 90.9%, Mean Squared Error is 58166302.44. Testing Data-R2 score is 97.6%, Mean Squared Error is 20961473.69."
   ]
  },
  {
   "cell_type": "code",
   "execution_count": null,
   "id": "bf6e9188",
   "metadata": {},
   "outputs": [],
   "source": []
  }
 ],
 "metadata": {
  "kernelspec": {
   "display_name": "Python 3 (ipykernel)",
   "language": "python",
   "name": "python3"
  },
  "language_info": {
   "codemirror_mode": {
    "name": "ipython",
    "version": 3
   },
   "file_extension": ".py",
   "mimetype": "text/x-python",
   "name": "python",
   "nbconvert_exporter": "python",
   "pygments_lexer": "ipython3",
   "version": "3.9.7"
  }
 },
 "nbformat": 4,
 "nbformat_minor": 5
}
